{
 "cells": [
  {
   "cell_type": "code",
   "execution_count": 7,
   "id": "07a4d389-36db-4434-be20-4da03f930aae",
   "metadata": {},
   "outputs": [],
   "source": [
    "class Point:\n",
    "    def __init__(self,x,y):\n",
    "        self.x_co = x\n",
    "        self.y_co = y\n",
    "\n",
    "    def __str__(self):\n",
    "        \n",
    "        return '{},{}'.format(self.x_co,self.y_co) \n",
    "\n",
    "\n",
    "        "
   ]
  },
  {
   "cell_type": "code",
   "execution_count": 13,
   "id": "ef751aca-24fc-4517-b32b-0e7c451c8a6b",
   "metadata": {},
   "outputs": [
    {
     "ename": "TypeError",
     "evalue": "Point.__init__() missing 2 required positional arguments: 'x' and 'y'",
     "output_type": "error",
     "traceback": [
      "\u001b[1;31m---------------------------------------------------------------------------\u001b[0m",
      "\u001b[1;31mTypeError\u001b[0m                                 Traceback (most recent call last)",
      "Cell \u001b[1;32mIn[13], line 1\u001b[0m\n\u001b[1;32m----> 1\u001b[0m p1 \u001b[38;5;241m=\u001b[39m Point()\n",
      "\u001b[1;31mTypeError\u001b[0m: Point.__init__() missing 2 required positional arguments: 'x' and 'y'"
     ]
    }
   ],
   "source": [
    "p1 = Point()"
   ]
  },
  {
   "cell_type": "code",
   "execution_count": 15,
   "id": "ca4d68c7-4345-4361-b8e4-38a73029a555",
   "metadata": {},
   "outputs": [],
   "source": [
    "p2 = Point(2,4)"
   ]
  },
  {
   "cell_type": "code",
   "execution_count": 17,
   "id": "52a52755-7dd7-49b9-a311-e9d86dff454f",
   "metadata": {},
   "outputs": [
    {
     "name": "stdout",
     "output_type": "stream",
     "text": [
      "2,4\n"
     ]
    }
   ],
   "source": [
    "print(p2)"
   ]
  },
  {
   "cell_type": "code",
   "execution_count": 19,
   "id": "25198b59-898a-4146-991f-ae909e7d899a",
   "metadata": {},
   "outputs": [],
   "source": [
    "class Point:\n",
    "    def __init__(self,x,y):\n",
    "        self.x_co = x\n",
    "        self.y_co = y\n",
    "\n",
    "    def __str__(self):\n",
    "        \n",
    "        return '({},{})'.format(self.x_co,self.y_co) \n",
    "\n",
    "\n",
    "        "
   ]
  },
  {
   "cell_type": "code",
   "execution_count": 21,
   "id": "2d28bf04-e61c-40cc-b712-4fb172bfa198",
   "metadata": {},
   "outputs": [],
   "source": [
    "p3 = Point(4,6)"
   ]
  },
  {
   "cell_type": "code",
   "execution_count": 23,
   "id": "1d369c90-6303-4466-9a2a-71e95fd708eb",
   "metadata": {},
   "outputs": [
    {
     "name": "stdout",
     "output_type": "stream",
     "text": [
      "(4,6)\n"
     ]
    }
   ],
   "source": [
    "print(p3)"
   ]
  },
  {
   "cell_type": "code",
   "execution_count": 53,
   "id": "00352a75-cd49-442f-9cde-049dccffb6fd",
   "metadata": {},
   "outputs": [],
   "source": [
    "class Point:\n",
    "    def __init__(self,x,y):\n",
    "        self.x_co = x\n",
    "        self.y_co = y\n",
    "\n",
    "    def __str__(self):\n",
    "        \n",
    "        return '({},{})'.format(self.x_co,self.y_co) \n",
    "\n",
    "    # idhi magic method ah ledha user defined method ah ??\n",
    "    # non magic method antaru ra babu🤩🤷‍♀️🚵\n",
    "    def eucledian_distance(self,ravi):\n",
    "        distance = ((self.x_co - ravi.x_co)**2 + (self.y_co - ravi.y_co)**2)**0.5\n",
    "        return distance\n",
    "        \n",
    "\n",
    "\n",
    "        "
   ]
  },
  {
   "cell_type": "code",
   "execution_count": 55,
   "id": "044c2a76-6103-4574-8f78-3202afac6dd7",
   "metadata": {},
   "outputs": [
    {
     "name": "stdout",
     "output_type": "stream",
     "text": [
      "(3,5) (2,9)\n"
     ]
    }
   ],
   "source": [
    "p4 = Point(3,5)\n",
    "p5 = Point(2,9)\n",
    "print(p4,p5)"
   ]
  },
  {
   "cell_type": "code",
   "execution_count": 57,
   "id": "c407802a-61db-4bd5-b1eb-c8e38bc8b61e",
   "metadata": {},
   "outputs": [
    {
     "data": {
      "text/plain": [
       "4.123105625617661"
      ]
     },
     "execution_count": 57,
     "metadata": {},
     "output_type": "execute_result"
    }
   ],
   "source": [
    "p4.eucledian_distance(p5)"
   ]
  },
  {
   "cell_type": "code",
   "execution_count": 45,
   "id": "45b8e505-28c4-4f68-99ed-7bdddc08573e",
   "metadata": {},
   "outputs": [
    {
     "data": {
      "text/plain": [
       "2.0"
      ]
     },
     "execution_count": 45,
     "metadata": {},
     "output_type": "execute_result"
    }
   ],
   "source": [
    "import math \n",
    "math.sqrt(4)"
   ]
  },
  {
   "cell_type": "code",
   "execution_count": 47,
   "id": "e85cccb3-ee8c-44b7-81fa-919be1bac54d",
   "metadata": {},
   "outputs": [
    {
     "ename": "NameError",
     "evalue": "name 'srt' is not defined",
     "output_type": "error",
     "traceback": [
      "\u001b[1;31m---------------------------------------------------------------------------\u001b[0m",
      "\u001b[1;31mNameError\u001b[0m                                 Traceback (most recent call last)",
      "Cell \u001b[1;32mIn[47], line 1\u001b[0m\n\u001b[1;32m----> 1\u001b[0m srt(\u001b[38;5;241m9\u001b[39m)\n",
      "\u001b[1;31mNameError\u001b[0m: name 'srt' is not defined"
     ]
    }
   ],
   "source": [
    "srt(9)"
   ]
  },
  {
   "cell_type": "code",
   "execution_count": 33,
   "id": "12883ad5-3008-4d17-893d-cdc45f3961cc",
   "metadata": {},
   "outputs": [
    {
     "data": {
      "text/plain": [
       "9"
      ]
     },
     "execution_count": 33,
     "metadata": {},
     "output_type": "execute_result"
    }
   ],
   "source": [
    "3**2"
   ]
  },
  {
   "cell_type": "code",
   "execution_count": 35,
   "id": "d46f0f85-e6c4-4219-8dbb-c2606327d9e9",
   "metadata": {},
   "outputs": [
    {
     "data": {
      "text/plain": [
       "3.0"
      ]
     },
     "execution_count": 35,
     "metadata": {},
     "output_type": "execute_result"
    }
   ],
   "source": [
    "9**0.5"
   ]
  },
  {
   "cell_type": "code",
   "execution_count": 63,
   "id": "c60aa993-672c-4f5c-8179-a51e98e178dd",
   "metadata": {},
   "outputs": [],
   "source": [
    "class Point:\n",
    "    def __init__(self,x,y):\n",
    "        self.x_co = x\n",
    "        self.y_co = y\n",
    "\n",
    "    def __str__(self):\n",
    "        \n",
    "        return '({},{})'.format(self.x_co,self.y_co) \n",
    "\n",
    "    # idhi magic method ah ledha user defined method ah ??\n",
    "    # non magic method antaru ra babu🤩🤷‍♀️🚵\n",
    "    def eucledian_distance(self,ravi):\n",
    "        distance = ((self.x_co - ravi.x_co)**2 + (self.y_co - ravi.y_co)**2)**0.5\n",
    "        return distance\n",
    "\n",
    "    # disttance from origin \n",
    "\n",
    "    def distance_from_origin(self):\n",
    "        origin_distance = ((self.x_co)**2 + (self.y_co)**2)**0.5\n",
    "        return origin_distance\n",
    "\n",
    "\n",
    "        "
   ]
  },
  {
   "cell_type": "code",
   "execution_count": 65,
   "id": "eb6b312f-12b6-4fe9-ac92-263c582ba51c",
   "metadata": {},
   "outputs": [
    {
     "data": {
      "text/plain": [
       "10.295630140987"
      ]
     },
     "execution_count": 65,
     "metadata": {},
     "output_type": "execute_result"
    }
   ],
   "source": [
    "p6 = Point(5,9)\n",
    "p6.distance_from_origin()"
   ]
  },
  {
   "cell_type": "code",
   "execution_count": 67,
   "id": "357a46b5-3630-400c-9096-cf125278802c",
   "metadata": {},
   "outputs": [
    {
     "data": {
      "text/plain": [
       "29.832867780352597"
      ]
     },
     "execution_count": 67,
     "metadata": {},
     "output_type": "execute_result"
    }
   ],
   "source": [
    "p7 = Point(-7,-29)\n",
    "p7.distance_from_origin()"
   ]
  },
  {
   "cell_type": "code",
   "execution_count": 71,
   "id": "50ba482f-e65b-4230-9a8c-bea3aecb8b94",
   "metadata": {},
   "outputs": [],
   "source": [
    "class Point:\n",
    "    def __init__(self,x,y):\n",
    "        self.x_co = x\n",
    "        self.y_co = y\n",
    "\n",
    "    def __str__(self):\n",
    "        \n",
    "        return '({},{})'.format(self.x_co,self.y_co) \n",
    "\n",
    "    # idhi magic method ah ledha user defined method ah ??\n",
    "    # non magic method antaru ra babu🤩🤷‍♀️🚵\n",
    "    def eucledian_distance(self,ravi):\n",
    "        distance = ((self.x_co - ravi.x_co)**2 + (self.y_co - ravi.y_co)**2)**0.5\n",
    "        return distance\n",
    "\n",
    "    # disttance from origin \n",
    "\n",
    "    def distance_from_origin(self):\n",
    "        raj.x_co = 0\n",
    "        raj.y_co = 0\n",
    "        return self.eucledian_distance(self,raj)\n",
    "\n",
    "\n",
    "        "
   ]
  },
  {
   "cell_type": "code",
   "execution_count": 73,
   "id": "a02d75b5-fbf4-44bf-93d7-c02152cfed36",
   "metadata": {},
   "outputs": [
    {
     "ename": "NameError",
     "evalue": "name 'raj' is not defined",
     "output_type": "error",
     "traceback": [
      "\u001b[1;31m---------------------------------------------------------------------------\u001b[0m",
      "\u001b[1;31mNameError\u001b[0m                                 Traceback (most recent call last)",
      "Cell \u001b[1;32mIn[73], line 2\u001b[0m\n\u001b[0;32m      1\u001b[0m p8 \u001b[38;5;241m=\u001b[39m Point(\u001b[38;5;241m-\u001b[39m\u001b[38;5;241m45\u001b[39m,\u001b[38;5;241m22\u001b[39m)\n\u001b[1;32m----> 2\u001b[0m p8\u001b[38;5;241m.\u001b[39mdistance_from_origin()\n",
      "Cell \u001b[1;32mIn[71], line 19\u001b[0m, in \u001b[0;36mPoint.distance_from_origin\u001b[1;34m(self)\u001b[0m\n\u001b[0;32m     18\u001b[0m \u001b[38;5;28;01mdef\u001b[39;00m \u001b[38;5;21mdistance_from_origin\u001b[39m(\u001b[38;5;28mself\u001b[39m):\n\u001b[1;32m---> 19\u001b[0m     raj\u001b[38;5;241m.\u001b[39mx_co \u001b[38;5;241m=\u001b[39m \u001b[38;5;241m0\u001b[39m\n\u001b[0;32m     20\u001b[0m     raj\u001b[38;5;241m.\u001b[39my_co \u001b[38;5;241m=\u001b[39m \u001b[38;5;241m0\u001b[39m\n\u001b[0;32m     21\u001b[0m     \u001b[38;5;28;01mreturn\u001b[39;00m \u001b[38;5;28mself\u001b[39m\u001b[38;5;241m.\u001b[39meucledian_distance(\u001b[38;5;28mself\u001b[39m,raj)\n",
      "\u001b[1;31mNameError\u001b[0m: name 'raj' is not defined"
     ]
    }
   ],
   "source": [
    "p8 = Point(-45,22)\n",
    "p8.distance_from_origin()"
   ]
  },
  {
   "cell_type": "code",
   "execution_count": 87,
   "id": "3849dc2d-687a-495c-b030-8cb359a9b70b",
   "metadata": {},
   "outputs": [],
   "source": [
    "class Point:\n",
    "    def __init__(self,x,y):\n",
    "        self.x_co = x\n",
    "        self.y_co = y\n",
    "\n",
    "    def __str__(self):\n",
    "        \n",
    "        return '({},{})'.format(self.x_co,self.y_co) \n",
    "\n",
    "    # idhi magic method ah ledha user defined method ah ??\n",
    "    # non magic method antaru ra babu🤩🤷‍♀️🚵\n",
    "    def eucledian_distance(self,ravi):\n",
    "        distance = ((self.x_co - ravi.x_co)**2 + (self.y_co - ravi.y_co)**2)**0.5\n",
    "        return distance\n",
    "\n",
    "    # disttance from origin \n",
    "\n",
    "    def distance_from_origin(self):\n",
    "        return self.eucledian_distance(self,Point(0,0))\n",
    "\n",
    "\n",
    "        "
   ]
  },
  {
   "cell_type": "code",
   "execution_count": 89,
   "id": "54d30c8c-adbf-4c96-b7bc-b986ca370535",
   "metadata": {},
   "outputs": [],
   "source": [
    "p9 = Point(-33,99)"
   ]
  },
  {
   "cell_type": "code",
   "execution_count": 91,
   "id": "3f7a6b7a-48e8-460b-a721-77b432093d6b",
   "metadata": {},
   "outputs": [
    {
     "ename": "TypeError",
     "evalue": "Point.eucledian_distance() takes 2 positional arguments but 3 were given",
     "output_type": "error",
     "traceback": [
      "\u001b[1;31m---------------------------------------------------------------------------\u001b[0m",
      "\u001b[1;31mTypeError\u001b[0m                                 Traceback (most recent call last)",
      "Cell \u001b[1;32mIn[91], line 1\u001b[0m\n\u001b[1;32m----> 1\u001b[0m p9\u001b[38;5;241m.\u001b[39mdistance_from_origin()\n",
      "Cell \u001b[1;32mIn[87], line 19\u001b[0m, in \u001b[0;36mPoint.distance_from_origin\u001b[1;34m(self)\u001b[0m\n\u001b[0;32m     18\u001b[0m \u001b[38;5;28;01mdef\u001b[39;00m \u001b[38;5;21mdistance_from_origin\u001b[39m(\u001b[38;5;28mself\u001b[39m):\n\u001b[1;32m---> 19\u001b[0m     \u001b[38;5;28;01mreturn\u001b[39;00m \u001b[38;5;28mself\u001b[39m\u001b[38;5;241m.\u001b[39meucledian_distance(\u001b[38;5;28mself\u001b[39m,Point(\u001b[38;5;241m0\u001b[39m,\u001b[38;5;241m0\u001b[39m))\n",
      "\u001b[1;31mTypeError\u001b[0m: Point.eucledian_distance() takes 2 positional arguments but 3 were given"
     ]
    }
   ],
   "source": [
    "p9.distance_from_origin()"
   ]
  },
  {
   "cell_type": "code",
   "execution_count": 93,
   "id": "a1c49b33-a7a8-4754-8e21-a6c1147e03a7",
   "metadata": {},
   "outputs": [],
   "source": [
    "class Point:\n",
    "    def __init__(self,x,y):\n",
    "        self.x_co = x\n",
    "        self.y_co = y\n",
    "\n",
    "    def __str__(self):\n",
    "        \n",
    "        return '({},{})'.format(self.x_co,self.y_co) \n",
    "\n",
    "    # idhi magic method ah ledha user defined method ah ??\n",
    "    # non magic method antaru ra babu🤩🤷‍♀️🚵\n",
    "    def eucledian_distance(self,ravi):\n",
    "        distance = ((self.x_co - ravi.x_co)**2 + (self.y_co - ravi.y_co)**2)**0.5\n",
    "        return distance\n",
    "\n",
    "    # disttance from origin \n",
    "\n",
    "    def distance_from_origin(self):\n",
    "        return self.eucledian_distance(Point(0,0))\n",
    "\n",
    "## here point(0,0) is a object... created inside class\n",
    "         "
   ]
  },
  {
   "cell_type": "code",
   "execution_count": 95,
   "id": "e9ab6798-8b77-4162-9b6f-ebbbf7f51e3e",
   "metadata": {},
   "outputs": [
    {
     "data": {
      "text/plain": [
       "88.81441324469807"
      ]
     },
     "execution_count": 95,
     "metadata": {},
     "output_type": "execute_result"
    }
   ],
   "source": [
    "po1 = Point(-12,88)\n",
    "po1.distance_from_origin()"
   ]
  },
  {
   "cell_type": "code",
   "execution_count": 3,
   "id": "a096874b-b3e9-42f9-8643-d0581f5c5d96",
   "metadata": {},
   "outputs": [],
   "source": [
    "class Point:\n",
    "    def __init__(self,x,y):\n",
    "        self.x_co = x\n",
    "        self.y_co = y\n",
    "\n",
    "    def __str__(self):\n",
    "        \n",
    "        return '({},{})'.format(self.x_co,self.y_co) \n",
    "\n",
    "    # idhi magic method ah ledha user defined method ah ??\n",
    "    # non magic method antaru ra babu🤩🤷‍♀️🚵\n",
    "    def eucledian_distance(self,ravi):\n",
    "        distance = ((self.x_co - ravi.x_co)**2 + (self.y_co - ravi.y_co)**2)**0.5\n",
    "        return distance\n",
    "\n",
    "    # disttance from origin \n",
    "\n",
    "    def distance_from_origin(self):\n",
    "        return self.eucledian_distance(Point(0,0))\n",
    "\n",
    "## here point(0,0) is a object... created inside class\n",
    "\n",
    "\n",
    "class Line:\n",
    "\n",
    "    def __init__(self,A,B,C):\n",
    "        self.A = A \n",
    "        self.B = B \n",
    "        self.C = C\n",
    "\n",
    "    def __str__(self):\n",
    "        return \"{}x + {}y + {} = 0\".format(self.A,self.B,self.C)\n",
    "         "
   ]
  },
  {
   "cell_type": "code",
   "execution_count": 137,
   "id": "c6550c56-9cc3-4a95-aa15-2a2ed2e4386f",
   "metadata": {},
   "outputs": [],
   "source": [
    "l1 = Line(2,4,6)"
   ]
  },
  {
   "cell_type": "code",
   "execution_count": 139,
   "id": "0d1e04fb-10b6-4bb4-9502-34c29e14c91d",
   "metadata": {},
   "outputs": [
    {
     "name": "stdout",
     "output_type": "stream",
     "text": [
      "2x + 4y + 6 = 0\n"
     ]
    }
   ],
   "source": [
    "print(l1)"
   ]
  },
  {
   "cell_type": "code",
   "execution_count": 151,
   "id": "620164b1-1389-413f-95e8-c4e6367f64a5",
   "metadata": {},
   "outputs": [],
   "source": [
    "class Line:\n",
    "\n",
    "    def __init__(self,A,B,C):\n",
    "        self.A = A \n",
    "        self.B = B \n",
    "        self.C = C\n",
    "\n",
    "    def __str__(self):\n",
    "        return \"{}x + {}y + {} = 0\".format(self.A,self.B,self.C)\n",
    "         "
   ]
  },
  {
   "cell_type": "code",
   "execution_count": 153,
   "id": "93c7ff1f-2f67-4c62-9e7f-6b8699d759fd",
   "metadata": {},
   "outputs": [],
   "source": [
    "l2 = Line(2,2,2)"
   ]
  },
  {
   "cell_type": "code",
   "execution_count": 155,
   "id": "b8ba7efb-2f8b-4e12-a0b9-ec6287a5feb7",
   "metadata": {},
   "outputs": [
    {
     "name": "stdout",
     "output_type": "stream",
     "text": [
      "2x + 2y + 2 = 0\n"
     ]
    }
   ],
   "source": [
    "print(l2)"
   ]
  },
  {
   "cell_type": "code",
   "execution_count": 157,
   "id": "c9978f86-6c9a-4105-9040-50558f97ffa2",
   "metadata": {},
   "outputs": [
    {
     "name": "stdout",
     "output_type": "stream",
     "text": [
      "-2x + -3y + -5 = 0\n"
     ]
    }
   ],
   "source": [
    "l3 = Line(-2,-3,-5)\n",
    "print(l3)"
   ]
  },
  {
   "cell_type": "code",
   "execution_count": null,
   "id": "9cd7e566-872f-4976-a7c3-dd6850858efb",
   "metadata": {},
   "outputs": [],
   "source": []
  },
  {
   "cell_type": "code",
   "execution_count": null,
   "id": "0f71271d-7454-429c-bd91-0754bbbd3d8c",
   "metadata": {},
   "outputs": [],
   "source": []
  },
  {
   "cell_type": "code",
   "execution_count": 9,
   "id": "9b296264-0cbe-4650-aa48-80825534e6d9",
   "metadata": {},
   "outputs": [
    {
     "name": "stdout",
     "output_type": "stream",
     "text": [
      "2x + 5y + -8 = 0\n"
     ]
    }
   ],
   "source": [
    "l3 = Line(2,5,-8)\n",
    "print(l3)"
   ]
  },
  {
   "cell_type": "code",
   "execution_count": 19,
   "id": "aa799b74-70f3-4188-b4fb-be6a918d373d",
   "metadata": {},
   "outputs": [],
   "source": [
    "class Point:\n",
    "    def __init__(self,x,y):\n",
    "        self.x_co = x\n",
    "        self.y_co = y\n",
    "\n",
    "    def __str__(self):\n",
    "        \n",
    "        return '({},{})'.format(self.x_co,self.y_co) \n",
    "\n",
    "    # idhi magic method ah ledha user defined method ah ??\n",
    "    # non magic method antaru ra babu🤩🤷‍♀️🚵\n",
    "    def eucledian_distance(self,ravi):\n",
    "        distance = ((self.x_co - ravi.x_co)**2 + (self.y_co - ravi.y_co)**2)**0.5\n",
    "        return distance\n",
    "\n",
    "    # disttance from origin \n",
    "\n",
    "    def distance_from_origin(self):\n",
    "        return self.eucledian_distance(Point(0,0))\n",
    "\n",
    "## here point(0,0) is a object... created inside class\n",
    "\n",
    "\n",
    "class Line:\n",
    "\n",
    "    def __init__(self,A,B,C):\n",
    "        self.A = A \n",
    "        self.B = B \n",
    "        self.C = C\n",
    "\n",
    "    def __str__(self):\n",
    "        if self.C >= 0 :\n",
    "            return \"{}x + {}y + {} = 0\".format(self.A,self.B,self.C)\n",
    "\n",
    "        else:\n",
    "            return \"{}x + {}y {}\".format(self.A,self.B,self.C)\n",
    "\n",
    "    def point_on_line(ravi,shiva):  # ravi pointing to line, shiva pointing to point\n",
    "        \n",
    "        if ravi.A*shiva.x_co + ravi.B*shiva.y_co + ravi.C == 0:\n",
    "            \n",
    "            return \"given point ({},{}) is lies on the line {}x + {}y + {}\".format(shiva.x_co,shiva.y_co,ravi.A,ravi.B,ravi.C)\n",
    "\n",
    "        else :\n",
    "            return \"given point ({},{}) does not lies on the line {}x + {}y + {}\".format(shiva.x_co,shiva.y_co,ravi.A,ravi.B,ravi.C)\n",
    "         "
   ]
  },
  {
   "cell_type": "code",
   "execution_count": 29,
   "id": "143d3edb-0d27-4968-8099-e94e14561f02",
   "metadata": {},
   "outputs": [
    {
     "name": "stdout",
     "output_type": "stream",
     "text": [
      "2x + 3y -5 (1,1)\n"
     ]
    },
    {
     "data": {
      "text/plain": [
       "'given point (1,1) is lies on the line 2x + 3y + -5'"
      ]
     },
     "execution_count": 29,
     "metadata": {},
     "output_type": "execute_result"
    }
   ],
   "source": [
    "l4 = Line(2,3,-5)\n",
    "po2 = Point(1,1)\n",
    "print(l4,po2)\n",
    "l4.point_on_line(po2)"
   ]
  },
  {
   "cell_type": "code",
   "execution_count": null,
   "id": "b07f9ff2-727e-4c94-913e-4c0ed1bda291",
   "metadata": {},
   "outputs": [],
   "source": [
    "\"\"\"\n",
    "    def __str__(self):\n",
    "    \n",
    "        if self.B < 0 & self.C >= 0 : 3x-2y+5 = 0\n",
    "            return \"{}x {}y + {} = 0\".format(self.A,self.B,self.C)\n",
    "            \n",
    "\n",
    "        elif self.B >= 0 & self.C < 0:  5x+9y-2 = 0\n",
    "             return \"{}x + {}y {} = 0\".format(self.A,self.B,self.C)\n",
    "\n",
    "        elif slef.B < 0 & self.C < 0: 4x-7y-9=0\n",
    "            return \"{}x {}y {} = 0\".format(self.A,self.B,self.C)\n",
    "\n",
    "        else: x+4y+6=0\n",
    "            return \"{}x + {}y + {} = 0\".format(self.A,self.B,self.C)\n",
    "\n",
    "\n",
    "\"\"\""
   ]
  },
  {
   "cell_type": "code",
   "execution_count": 39,
   "id": "9dfc455a-6929-46bd-841e-cd157eaa3d46",
   "metadata": {},
   "outputs": [],
   "source": [
    "class Point:\n",
    "    def __init__(self,x,y):\n",
    "        self.x_co = x\n",
    "        self.y_co = y\n",
    "\n",
    "    def __str__(self):\n",
    "        \n",
    "        return '({},{})'.format(self.x_co,self.y_co) \n",
    "\n",
    "    # idhi magic method ah ledha user defined method ah ??\n",
    "    # non magic method antaru ra babu🤩🤷‍♀️🚵\n",
    "    def eucledian_distance(self,ravi):\n",
    "        distance = ((self.x_co - ravi.x_co)**2 + (self.y_co - ravi.y_co)**2)**0.5\n",
    "        return distance\n",
    "\n",
    "    # disttance from origin \n",
    "\n",
    "    def distance_from_origin(self):\n",
    "        return self.eucledian_distance(Point(0,0))\n",
    "\n",
    "## here point(0,0) is a object... created inside class\n",
    "\n",
    "\n",
    "class Line:\n",
    "\n",
    "    def __init__(self,A,B,C):\n",
    "        self.A = A \n",
    "        self.B = B \n",
    "        self.C = C\n",
    "\n",
    "    def __str__(self):\n",
    "        if self.C >= 0 :\n",
    "            return \"{}x + {}y + {} = 0\".format(self.A,self.B,self.C)\n",
    "\n",
    "        else:\n",
    "            return \"{}x + {}y {}\".format(self.A,self.B,self.C)\n",
    "\n",
    "    def point_on_line(ravi,shiva):  # ravi pointing to line, shiva pointing to point\n",
    "        \n",
    "        if ravi.A*shiva.x_co + ravi.B*shiva.y_co + ravi.C == 0:\n",
    "            \n",
    "            return \"given point ({},{}) is lies on the line {}x + {}y + {}\".format(shiva.x_co,shiva.y_co,ravi.A,ravi.B,ravi.C)\n",
    "\n",
    "        else :\n",
    "            return \"given point ({},{}) does not lies on the line {}x + {}y + {}\".format(shiva.x_co,shiva.y_co,ravi.A,ravi.B,ravi.C)\n",
    "\n",
    "    def shortest_distance(line,point):\n",
    "        short_dist = (line.A*point.x_co + line.B*point.y_co + line.C)/((line.A)**2 + (line.B)**2)**0.5\n",
    "        return short_dist\n",
    "\n",
    "\n",
    "\n",
    "\n",
    "\n",
    "\n",
    "\n",
    "\n",
    "        \n",
    "         "
   ]
  },
  {
   "cell_type": "code",
   "execution_count": 41,
   "id": "fd5bbf50-b9f4-4405-8565-3e8fd107ffe7",
   "metadata": {},
   "outputs": [
    {
     "name": "stdout",
     "output_type": "stream",
     "text": [
      "5x + 8y + 1 = 0 (3,9)\n"
     ]
    },
    {
     "data": {
      "text/plain": [
       "9.327981344055969"
      ]
     },
     "execution_count": 41,
     "metadata": {},
     "output_type": "execute_result"
    }
   ],
   "source": [
    "l5 = Line(5,8,1)\n",
    "po3 = Point(3,9)\n",
    "print(l5,po3)\n",
    "\n",
    "l5.shortest_distance(po3)"
   ]
  },
  {
   "cell_type": "code",
   "execution_count": 43,
   "id": "a0ebd5bd-805a-4c32-b06c-81bbae65c641",
   "metadata": {},
   "outputs": [
    {
     "name": "stdout",
     "output_type": "stream",
     "text": [
      "1x + 1y -99 (1,2)\n"
     ]
    },
    {
     "data": {
      "text/plain": [
       "-67.88225099390856"
      ]
     },
     "execution_count": 43,
     "metadata": {},
     "output_type": "execute_result"
    }
   ],
   "source": [
    "l5 = Line(1,1,-99)\n",
    "po3 = Point(1,2)\n",
    "print(l5,po3)\n",
    "\n",
    "l5.shortest_distance(po3)"
   ]
  },
  {
   "cell_type": "code",
   "execution_count": null,
   "id": "553ca2e6-e731-494f-bc73-9d5471dcb09b",
   "metadata": {},
   "outputs": [],
   "source": [
    "class Point:\n",
    "    def __init__(self,x,y):\n",
    "        self.x_co = x\n",
    "        self.y_co = y\n",
    "\n",
    "    def __str__(self):\n",
    "        \n",
    "        return '({},{})'.format(self.x_co,self.y_co) \n",
    "\n",
    "    # idhi magic method ah ledha user defined method ah ??\n",
    "    # non magic method antaru ra babu🤩🤷‍♀️🚵\n",
    "    def eucledian_distance(self,ravi):\n",
    "        distance = ((self.x_co - ravi.x_co)**2 + (self.y_co - ravi.y_co)**2)**0.5\n",
    "        return distance\n",
    "\n",
    "    # disttance from origin \n",
    "\n",
    "    def distance_from_origin(self):\n",
    "        return self.eucledian_distance(Point(0,0))\n",
    "\n",
    "## here point(0,0) is a object... created inside class\n",
    "\n",
    "\n",
    "    def slope_of_given_points(p1,p2):\n",
    "        slope = (p2.y_co - p1.y_co)/(p2.x_co - p1.x_co)\n",
    "        return slope\n",
    "\n",
    "    def equation_of_line(r1,r2):\n",
    "        m = r1.slope_of_given_points(r2)\n",
    "        \n",
    "        # y - y1 = m(x-x1)\n",
    "        # mx - y + y1 - mx1\n",
    "        \n",
    "        return 'y - {} = {}(x-{})'.format(r1.y_co,m,r1.x_co)\n",
    "        \n",
    "\n",
    "\n",
    "class Line:\n",
    "\n",
    "    def __init__(self,A,B,C):\n",
    "        self.A = A \n",
    "        self.B = B \n",
    "        self.C = C\n",
    "\n",
    "    def __str__(self):\n",
    "        if self.C >= 0 :\n",
    "            return \"{}x + {}y + {} = 0\".format(self.A,self.B,self.C)\n",
    "\n",
    "        else:\n",
    "            return \"{}x + {}y {}\".format(self.A,self.B,self.C)\n",
    "\n",
    "    def point_on_line(ravi,shiva):  # ravi pointing to line, shiva pointing to point\n",
    "        \n",
    "        if ravi.A*shiva.x_co + ravi.B*shiva.y_co + ravi.C == 0:\n",
    "            \n",
    "            return \"given point ({},{}) is lies on the line {}x + {}y + {}\".format(shiva.x_co,shiva.y_co,ravi.A,ravi.B,ravi.C)\n",
    "\n",
    "        else :\n",
    "            return \"given point ({},{}) does not lies on the line {}x + {}y + {}\".format(shiva.x_co,shiva.y_co,ravi.A,ravi.B,ravi.C)\n",
    "\n",
    "    def shortest_distance(line,point):\n",
    "        short_dist = abs(line.A*point.x_co + line.B*point.y_co + line.C)/((line.A)**2 + (line.B)**2)**0.5\n",
    "        return short_dist\n",
    "\n",
    "\n",
    "\n"
   ]
  },
  {
   "cell_type": "code",
   "execution_count": 47,
   "id": "20fd6576-e4d4-4f17-8d96-9a3c059da1d7",
   "metadata": {},
   "outputs": [
    {
     "name": "stdout",
     "output_type": "stream",
     "text": [
      "1x + 1y -99 (1,2)\n"
     ]
    },
    {
     "data": {
      "text/plain": [
       "67.88225099390856"
      ]
     },
     "execution_count": 47,
     "metadata": {},
     "output_type": "execute_result"
    }
   ],
   "source": [
    "l5 = Line(1,1,-99)\n",
    "po3 = Point(1,2)\n",
    "print(l5,po3)\n",
    "\n",
    "l5.shortest_distance(po3)"
   ]
  },
  {
   "cell_type": "code",
   "execution_count": 61,
   "id": "b95ef28c-b185-4513-9c48-a55f0da2124d",
   "metadata": {},
   "outputs": [
    {
     "name": "stdout",
     "output_type": "stream",
     "text": [
      "0.9166666666666666\n"
     ]
    },
    {
     "data": {
      "text/plain": [
       "'y - 9 = 0.9166666666666666(x-5)'"
      ]
     },
     "execution_count": 61,
     "metadata": {},
     "output_type": "execute_result"
    }
   ],
   "source": [
    "po4 = Point(5,9)\n",
    "po5 = Point(-7,-2)\n",
    "print(po4.slope_of_given_points(po5))\n",
    "po4.equation_of_line(po5)"
   ]
  },
  {
   "cell_type": "markdown",
   "id": "f692eba6-dabd-4c2f-b763-9c8067fea7c6",
   "metadata": {},
   "source": [
    "# point of intersection of two lines "
   ]
  },
  {
   "cell_type": "markdown",
   "id": "2ac366ec-eca2-4ce4-8df2-f98a2ea2a7a8",
   "metadata": {},
   "source": [
    "a1x + b1y + c1  = 0\n",
    "a2x + b2y + c2 = 0\n",
    "\n",
    "if a1b2-b1a2 == 0:\n",
    "    print(\"these two lines are not intersecting \")\n",
    "else :\n",
    "    (x0,y0) = (b1c2-b2c1)/(a1b2-a2b1), (c1a2-c2a1)/(a1b2-a2b1)\n",
    "    print(\"point of intersection is \",\"(\",x0,y0,\")\")\n"
   ]
  },
  {
   "cell_type": "markdown",
   "id": "3708a04f-d880-490d-b4fc-63dfeee1da46",
   "metadata": {},
   "source": [
    "# we can create a library for co-ordinate geometry and we can implement \n",
    "# area, perimeter \n",
    " # angles for \n",
    "# rectangles, squares, triangles, cirle etc"
   ]
  },
  {
   "cell_type": "code",
   "execution_count": null,
   "id": "6e522777-9c23-433f-ba71-b85bcc1e851f",
   "metadata": {},
   "outputs": [],
   "source": []
  }
 ],
 "metadata": {
  "kernelspec": {
   "display_name": "Python 3 (ipykernel)",
   "language": "python",
   "name": "python3"
  },
  "language_info": {
   "codemirror_mode": {
    "name": "ipython",
    "version": 3
   },
   "file_extension": ".py",
   "mimetype": "text/x-python",
   "name": "python",
   "nbconvert_exporter": "python",
   "pygments_lexer": "ipython3",
   "version": "3.12.4"
  }
 },
 "nbformat": 4,
 "nbformat_minor": 5
}
